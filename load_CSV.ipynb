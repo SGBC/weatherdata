{
 "cells": [
  {
   "cell_type": "code",
   "execution_count": 5,
   "metadata": {},
   "outputs": [],
   "source": [
    "import os\n",
    "import datetime\n",
    "import pandas as pd\n",
    "\n",
    "\n",
    "\n",
    "# Combine data from all CSV files into a dataframe.\n",
    "# @params stationId: station id as a string.\n",
    "#         start_date: date object. Includes this date when reading.\n",
    "#                     example: datetime.date(2020, 9, 1)\n",
    "#         end_date: date object. Includes this date when reading.\n",
    "#         type: determines whether to load MESAN (SMHI) or LANTMET data.\n",
    "#               type = True -> MESAN\n",
    "#               type = False -> LANTMET\n",
    "# @returns comb_df: concatenated dataframe containing all csv data\n",
    "#                   chronologically. None if a file was not found.\n",
    "def load_CSV(stationId, type, start_date, end_date):\n",
    "    \n",
    "    if type:\n",
    "        station_dir = 'MESAN_CSV/' + stationId + '/'\n",
    "    else: \n",
    "        station_dir = 'LANTMET_CSV/' + stationId + '/'\n",
    "    \n",
    "    # Check if dir exists.\n",
    "    if not os.path.isdir(station_dir):\n",
    "        print('load_CSV() >>> No directory: ' + station_dir)\n",
    "    \n",
    "    # Loop over days\n",
    "    current_date = start_date\n",
    "    frames = []\n",
    "    for n in range(0, (end_date - start_date + datetime.timedelta(days=1)).days):\n",
    "        date_str = current_date.strftime('%Y-%m-%d')\n",
    "        if type:\n",
    "            current_file = 'MESAN_' + date_str + '.csv'\n",
    "        else:\n",
    "            current_file = 'LANTMET_' + date_str + '.csv'\n",
    "        \n",
    "        # Try to read file, if file not found, return a None object.\n",
    "        try:\n",
    "            frames.append(pd.read_csv(station_dir + current_file))\n",
    "        except IOError as e:\n",
    "            print('load_CSV() >>> File not found. (' + current_file + ')')\n",
    "            return None\n",
    "        \n",
    "        current_date = current_date + datetime.timedelta(days=1)\n",
    "    comb_df = pd.concat(frames, ignore_index=True)\n",
    "    return comb_df"
   ]
  },
  {
   "cell_type": "code",
   "execution_count": null,
   "metadata": {},
   "outputs": [],
   "source": []
  }
 ],
 "metadata": {
  "kernelspec": {
   "display_name": "Python 3",
   "language": "python",
   "name": "python3"
  },
  "language_info": {
   "codemirror_mode": {
    "name": "ipython",
    "version": 3
   },
   "file_extension": ".py",
   "mimetype": "text/x-python",
   "name": "python",
   "nbconvert_exporter": "python",
   "pygments_lexer": "ipython3",
   "version": "3.7.6"
  }
 },
 "nbformat": 4,
 "nbformat_minor": 4
}
