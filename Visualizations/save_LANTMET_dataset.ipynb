{
 "cells": [
  {
   "cell_type": "markdown",
   "metadata": {},
   "source": [
    "# Fetch and save LantMet weather data."
   ]
  },
  {
   "cell_type": "code",
   "execution_count": null,
   "metadata": {},
   "outputs": [],
   "source": [
    "from METCOMP_utils import *\n",
    "\n",
    "\n",
    "start_date = datetime.date(2017, 3, 1)\n",
    "end_date = datetime.date(2020, 2, 29)\n",
    "\n",
    "stations =  ['40013', '40010', '25754', '40003', '24768', '40005', '23470', '25786', '24856', '23658', '40004', '23659', '25652', '20949', '40145', '40007', '40143', '22234']\n",
    "\n",
    "for station in stations:\n",
    "    \n",
    "    print(f'Working on station: {station}')\n",
    "    df = get_LANTMET(station, start_date, end_date)\n",
    "    save_LANTMET(station, df, start_date, end_date)\n",
    "    \n",
    "    \n",
    "    "
   ]
  }
 ],
 "metadata": {
  "kernelspec": {
   "display_name": "Python 3",
   "language": "python",
   "name": "python3"
  },
  "language_info": {
   "codemirror_mode": {
    "name": "ipython",
    "version": 3
   },
   "file_extension": ".py",
   "mimetype": "text/x-python",
   "name": "python",
   "nbconvert_exporter": "python",
   "pygments_lexer": "ipython3",
   "version": "3.7.6"
  }
 },
 "nbformat": 4,
 "nbformat_minor": 4
}
