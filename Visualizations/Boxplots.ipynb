{
 "cells": [
  {
   "cell_type": "markdown",
   "metadata": {},
   "source": [
    "# Seasonal box plots.\n",
    "  Create box plots for all seasons and stations. "
   ]
  },
  {
   "cell_type": "markdown",
   "metadata": {},
   "source": [
    "## Function to create season errors."
   ]
  },
  {
   "cell_type": "code",
   "execution_count": 3,
   "metadata": {},
   "outputs": [],
   "source": [
    "from METCOMP_utils import *\n",
    "import matplotlib.pyplot as plt\n",
    "import matplotlib\n",
    "import datetime\n",
    "import numpy as np\n",
    "import pandas as pd\n",
    "import calendar\n",
    "\n",
    "# Creates a dataframe with the error in each datapoint for given seasons and \n",
    "# years. OBS. Reads both SMHI and LantMet data from .csv file.\n",
    "# @params stationId: station id as a string.\n",
    "#         param: weather parameter as a string.\n",
    "#                'TM' - temperature (2m)\n",
    "#                'UM' - relative humidity\n",
    "#                'RR' - precipitation\n",
    "#                'FM2' - wind speed\n",
    "#         start_year: start year given as an integer.\n",
    "#         end_year: end year given as an integer.\n",
    "#         season: season as string, 'spring','summer','fall' or 'winter'\n",
    "# @returns df_ERROR: concatenated dataframe with the error each hour from the \n",
    "#                    given months and years.\n",
    "def season_error(stationId, param, start_year, end_year, season):\n",
    "    \n",
    "    if season == 'Spring':\n",
    "        start_month = 3\n",
    "        end_month = 5 \n",
    "    elif season == 'Summer':\n",
    "        start_month = 6\n",
    "        end_month = 8 \n",
    "    elif season == 'Fall':\n",
    "        start_month = 9\n",
    "        end_month = 11 \n",
    "    elif season == 'Winter':\n",
    "        start_month = 12\n",
    "        end_month = 2\n",
    "\n",
    "    start_day = 1\n",
    "    end_day = calendar.monthrange(end_year, end_month)[1]   \n",
    "    df_LANTMET = pd.DataFrame()\n",
    "    df_MESAN = pd.DataFrame()\n",
    "    current_year = start_year\n",
    "\n",
    "    # Read data from CSV to dataframes\n",
    "    print('Loading data...')\n",
    "    for i in range(0, end_year - start_year + 1):\n",
    "        start_date = datetime.date(current_year, start_month, start_day)\n",
    "\n",
    "        if end_month < start_month:\n",
    "            end_date = datetime.date(current_year + 1, end_month, end_day)\n",
    "        else:\n",
    "            end_date = datetime.date(current_year, end_month, end_day)\n",
    "\n",
    "        df_LANTMET = df_LANTMET.append(read_CSV(stationId, 'LANTMET', start_date, end_date))\n",
    "        df_MESAN = df_MESAN.append(read_CSV(stationId, 'MESAN', start_date, end_date))\n",
    "        current_year = current_year + 1\n",
    "\n",
    "    # Translation dictionary from LANTMET designations to MESAN designations.\n",
    "    param_dict = {'TM': 't', 'RR': 'prec1h', 'UM': 'r', 'FM2': 'ws'}\n",
    "\n",
    "    # Unit conversion if needed.\n",
    "    if param == 'UM':\n",
    "        df_MESAN[param_dict[param]] = df_MESAN[param_dict[param]]*100\n",
    "\n",
    "    # Check for missing values. Remove from both datasets.\n",
    "    print('Checking for missing values...')\n",
    "    bad_rows = {}\n",
    "    bad_MESAN = df_MESAN[df_MESAN[param_dict[param]].isnull()]\n",
    "    bad_LANTMET = df_LANTMET[df_LANTMET[param].isnull()]\n",
    "    # Find rows\n",
    "    for index, df_row in bad_MESAN.iterrows():\n",
    "        bad_rows[df_row['Timestamp']] = None\n",
    "    for index, df_row in bad_LANTMET.iterrows():\n",
    "        bad_rows[df_row['Timestamp']] = None\n",
    "    # Remove rows.\n",
    "    for bad_row in bad_rows:\n",
    "        print('Found NaN value at ' + bad_row + '. Removing from both datasets.', end='\\n')\n",
    "        df_MESAN = df_MESAN[~df_MESAN['Timestamp'].str.contains(bad_row)]\n",
    "        df_LANTMET = df_LANTMET[~df_LANTMET['Timestamp'].str.contains(bad_row)]\n",
    "\n",
    "    # Construct error dataframe.\n",
    "    timestamps = df_MESAN['Timestamp'].to_numpy()\n",
    "    errors = abs(df_MESAN[param_dict[param]].to_numpy() - df_LANTMET[param].to_numpy())\n",
    "    df_ERROR = pd.DataFrame.from_dict({'Timestamp': timestamps, 'Error': errors})\n",
    "\n",
    "    return df_ERROR"
   ]
  },
  {
   "cell_type": "markdown",
   "metadata": {},
   "source": [
    "## Create box plots.\n",
    "Specify parameter: \n",
    "'TM' - temperature (2m),\n",
    "'UM' - relative humidity,\n",
    "'RR' - precipitation,\n",
    "'FM2' - wind speed."
   ]
  },
  {
   "cell_type": "code",
   "execution_count": 2,
   "metadata": {},
   "outputs": [
    {
     "name": "stdout",
     "output_type": "stream",
     "text": [
      "Loading data...\n",
      "Checking for missing values...\n",
      "Loading data...\n",
      "Checking for missing values...\n",
      "Loading data...\n",
      "Checking for missing values...\n",
      "Loading data...\n",
      "Checking for missing values...\n",
      "Loading data...\n",
      "Checking for missing values...\n",
      "Loading data...\n",
      "Checking for missing values...\n",
      "Loading data...\n",
      "Checking for missing values...\n",
      "Loading data...\n",
      "Checking for missing values...\n"
     ]
    },
    {
     "data": {
      "image/png": "[encoded data removed]",
      "text/plain": [
       "<Figure size 1152x1152 with 4 Axes>"
      ]
     },
     "metadata": {
      "needs_background": "light"
     },
     "output_type": "display_data"
    }
   ],
   "source": [
    "# Choose parameter, start year and end year\n",
    "param = 'TM'\n",
    "start_year = 2017\n",
    "end_year = 2019\n",
    "\n",
    "stationId_list = ['40013', '40010']#, '25754', '40003', '24768', '40005', '23470', '25786', '24856', '23658', '40004', '23659', '25652', '20949', '40145', '40007', '40143', '22234']\n",
    "season_list =['Spring', 'Summer', 'Fall', 'Winter']\n",
    "\n",
    "df_ERROR_all = {}\n",
    "# Loop over all seasons\n",
    "for season in season_list:\n",
    "    df_ERROR_all[str(season)] = {}\n",
    "\n",
    "    # Loop over all stations \n",
    "    for stationId in stationId_list:\n",
    "        df_ERROR = season_error(stationId, param, start_year, end_year, str(season))\n",
    "        df_ERROR_all[str(season)][str(stationId)] = df_ERROR\n",
    "\n",
    "# Create boxplots for all seasons\n",
    "fig, axs = plt.subplots(1, 4, figsize=(16, 16))\n",
    "\n",
    "for season in season_list:\n",
    "    data = list()\n",
    "    labels = list()\n",
    "\n",
    "    for i in range(0,len(stationId_list)):\n",
    "        data.append(df_ERROR_all[str(season)][str(stationId_list[i])]['Error'])\n",
    "        labels.append(stationId_list[i])\n",
    "\n",
    "    axs[season_list.index(str(season))].boxplot(data, labels=labels, showfliers=False)\n",
    "    axs[season_list.index(str(season))].set_xlabel('Stations')\n",
    "    if param == 'TM' and season == 'Spring':\n",
    "         axs[season_list.index(str(season))].set_ylabel('Temperature (°C)')\n",
    "    elif param == 'RR' and season == 'Spring':\n",
    "        axs[season_list.index(str(season))].set_ylabel('Precipitation (mm)')\n",
    "    elif param == 'FM2' and season == 'Spring':\n",
    "        axs[season_list.index(str(season))].set_ylabel('Wind speed (m/s)')\n",
    "    elif param == 'UM' and season == 'Spring':\n",
    "        axs[season_list.index(str(season))].set_ylabel('Humidity (%)')\n",
    "    axs[season_list.index(str(season))].set_title(str(season))\n",
    "    x0,x1 = axs[season_list.index(str(season))].get_xlim()\n",
    "    y0,y1 = axs[season_list.index(str(season))].get_ylim()\n",
    "    axs[season_list.index(str(season))].set_aspect(abs(x1-x0)/abs(y1-y0))\n",
    "    axs[season_list.index(str(season))].set_xticklabels(labels, rotation=90)"
   ]
  },
  {
   "cell_type": "code",
   "execution_count": null,
   "metadata": {},
   "outputs": [],
   "source": []
  }
 ],
 "metadata": {
  "kernelspec": {
   "display_name": "Python 3",
   "language": "python",
   "name": "python3"
  },
  "language_info": {
   "codemirror_mode": {
    "name": "ipython",
    "version": 3
   },
   "file_extension": ".py",
   "mimetype": "text/x-python",
   "name": "python",
   "nbconvert_exporter": "python",
   "pygments_lexer": "ipython3",
   "version": "3.7.6"
  }
 },
 "nbformat": 4,
 "nbformat_minor": 4
}
