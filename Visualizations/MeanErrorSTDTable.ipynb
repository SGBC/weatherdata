{
 "cells": [
  {
   "cell_type": "code",
   "execution_count": 1,
   "metadata": {},
   "outputs": [
    {
     "name": "stdout",
     "output_type": "stream",
     "text": [
      "Loading 40013...\n",
      "Loading 40010...\n",
      "Loading 25754...\n",
      "Loading 40003...\n",
      "Loading 24768...\n",
      "Loading 40005...\n",
      "Loading 23470...\n",
      "Loading 25786...\n",
      "Loading 24856...\n",
      "Loading 23658...\n",
      "Loading 40004...\n",
      "Loading 23659...\n",
      "Loading 25652...\n",
      "Loading 20949...\n",
      "Loading 40145...\n",
      "Loading 40007...\n",
      "Loading 40143...\n",
      "Loading 22234...\n"
     ]
    }
   ],
   "source": [
    "# Load data.\n",
    "from METCOMP_utils import *\n",
    "station_ids = ['40013','40010','25754','40003','24768','40005','23470','25786','24856','23658','40004','23659','25652','20949','40145','40007','40143','22234']\n",
    "\n",
    "# param_dict: Dictionary translating SMHI parameter names to corresponding parameters in reference.\n",
    "#             Example: param_dict = {'t': 'ref_temperature', 'prec1h': 'ref_precipitation', ...}\n",
    "param_dict = {'t': 'TM', 'prec1h': 'RR', 'r': 'UM', 'ws': 'FM2'}\n",
    "\n",
    "start_date = datetime.date(2017, 3, 1)\n",
    "end_date = datetime.date(2020, 2, 29)\n",
    "MESAN_data = {}\n",
    "LANTMET_data = {}\n",
    "for station in station_ids:\n",
    "    print('Loading ' + station + '...')\n",
    "    MESAN_data[station] = read_CSV(station, 'MESAN', start_date, end_date)\n",
    "    LANTMET_data[station] = read_CSV(station, 'LANTMET', start_date, end_date)\n",
    "\n",
    "# Unit conversion if needed.\n",
    "for station in station_ids:\n",
    "    LANTMET_data[station][param_dict['r']] = LANTMET_data[station][param_dict['r']]/100"
   ]
  },
  {
   "cell_type": "code",
   "execution_count": 19,
   "metadata": {},
   "outputs": [
    {
     "name": "stdout",
     "output_type": "stream",
     "text": [
      "==== Creating spring table ====\n",
      "==== Creating summer table ====\n",
      "==== Creating fall table ====\n",
      "==== Creating winter table ====\n",
      "Working on 22234...\r"
     ]
    }
   ],
   "source": [
    "import numpy as np\n",
    "import pandas as pd\n",
    "\n",
    "# param_dict: Dictionary translating SMHI parameter names to corresponding parameters in reference.\n",
    "#             Example: param_dict = {'t': 'ref_temperature', 'prec1h': 'ref_precipitation', ...}\n",
    "param_dict = {'t': 'TM', 'r': 'UM', 'prec1h': 'RR', 'ws': 'FM2'}\n",
    "seasons = {'spring': [3, 4, 5], 'summer': [6, 7, 8], 'fall': [9, 10, 11], 'winter': [12, 1, 2]}\n",
    "stations = ['40013','40010','25754','40003','24768','40005','23470','25786','24856','23658','40004','23659','25652','20949','40145','40007','40143','22234']\n",
    "\n",
    "\n",
    "tables = {}\n",
    "for season in seasons:\n",
    "    tables[season] = None\n",
    "    \n",
    "\n",
    "for season in seasons:\n",
    "    \n",
    "    print('==== Creating ' + season + ' table ====')\n",
    "    \n",
    "    table = {'Station': stations}\n",
    "    for param in param_dict:\n",
    "        table[param + '_mean'] = []\n",
    "        table[param + '_std'] = []\n",
    "    \n",
    "    #print(table)\n",
    "    \n",
    "    for station in stations:\n",
    "        \n",
    "        print('Working on ' + station + '...', end='\\r')\n",
    "        \n",
    "        # Make copies.\n",
    "        df_MESAN = MESAN_data[station].copy()\n",
    "        df_LANTMET = LANTMET_data[station].copy()\n",
    "        \n",
    "        for param in param_dict:\n",
    "            \n",
    "            # Remove NaN rows.\n",
    "            bad_rows = (df_MESAN[param].isnull() | df_LANTMET[param_dict[param]].isnull())\n",
    "            MESAN_param = df_MESAN[~bad_rows][param]\n",
    "            LANTMET_param = df_LANTMET[~bad_rows][param_dict[param]]\n",
    "            \n",
    "            error = np.array(abs(MESAN_param - LANTMET_param))\n",
    "            #print(len(error))\n",
    "            if param == 'r':\n",
    "                error = error*100\n",
    "            \n",
    "            table[param + '_mean'].append(round(sum(error)/len(error), 4))\n",
    "            table[param + '_std'].append(round(np.std(error), 4))\n",
    "            \n",
    "    tables[season] = pd.DataFrame.from_dict(table)"
   ]
  },
  {
   "cell_type": "code",
   "execution_count": 23,
   "metadata": {},
   "outputs": [
    {
     "name": "stdout",
     "output_type": "stream",
     "text": [
      "   Station  t_mean   t_std  r_mean   r_std  prec1h_mean  prec1h_std  ws_mean  \\\n",
      "0    40013  1.4130  2.1268  7.2915  7.6655       0.0514      0.2361   0.7291   \n",
      "1    40010  0.7491  0.9053  4.9482  4.0741       0.0442      0.2415   1.3753   \n",
      "2    25754  0.5170  0.5040  5.4574  3.6174       0.0528      0.2416   1.5227   \n",
      "3    40003  0.5978  0.6253  5.0851  4.0646       0.0510      0.2695   1.7511   \n",
      "4    24768  0.7915  0.7291  4.4522  4.0607       0.0541      0.2356   1.2082   \n",
      "5    40005  0.7816  0.6220  4.8552  4.6143       0.0448      0.2043   1.2463   \n",
      "6    23470  0.8212  0.8662  4.4501  4.2297       0.0879      0.3600   0.8157   \n",
      "7    25786  0.8205  0.9326  6.2244  4.4066       0.0968      0.6309   0.7072   \n",
      "8    24856  0.6939  0.7638  4.9715  3.8432       0.0606      0.2569   1.4269   \n",
      "9    23658  0.6247  0.6101  4.0340  3.9097       0.0571      0.2531   1.2645   \n",
      "10   40004  0.6496  0.6900  4.0341  3.6516       0.0486      0.2195   1.5940   \n",
      "11   23659  1.4586  2.0598  5.5969  6.1413       0.0581      0.3139   1.3654   \n",
      "12   25652  0.6803  0.7348  6.6956  6.3027       0.0766      0.3481   0.7553   \n",
      "13   20949  0.5544  0.5801  5.1375  4.1165       0.0787      0.3971   1.0356   \n",
      "14   40145  1.1656  1.8201  6.0060  4.8993       0.0958      0.4422   1.1446   \n",
      "15   40007  0.5943  0.6258  5.6023  4.2578       0.0771      0.3698   1.5449   \n",
      "16   40143  0.6779  0.6959  7.4164  5.4481       0.0710      0.3048   1.0496   \n",
      "17   22234  0.6327  0.6236  3.9153  3.6515       0.0481      0.2625   1.3781   \n",
      "\n",
      "    ws_std  \n",
      "0   0.6496  \n",
      "1   1.0243  \n",
      "2   0.8311  \n",
      "3   1.1947  \n",
      "4   0.9045  \n",
      "5   0.9355  \n",
      "6   0.7334  \n",
      "7   3.6745  \n",
      "8   0.9240  \n",
      "9   4.3086  \n",
      "10  1.3091  \n",
      "11  1.4336  \n",
      "12  0.6737  \n",
      "13  0.8997  \n",
      "14  1.0182  \n",
      "15  1.2707  \n",
      "16  0.8177  \n",
      "17  0.9599  \n"
     ]
    }
   ],
   "source": [
    "print(tables['summer'])\n",
    "tables['spring'].to_csv('spring_mean_std_table.csv', index=False)\n",
    "tables['summer'].to_csv('summer_mean_std_table.csv', index=False)\n",
    "tables['fall'].to_csv('fall_mean_std_table.csv', index=False)\n",
    "tables['winter'].to_csv('winter_mean_std_table.csv', index=False)"
   ]
  },
  {
   "cell_type": "code",
   "execution_count": null,
   "metadata": {},
   "outputs": [],
   "source": []
  }
 ],
 "metadata": {
  "kernelspec": {
   "display_name": "Python 3",
   "language": "python",
   "name": "python3"
  },
  "language_info": {
   "codemirror_mode": {
    "name": "ipython",
    "version": 3
   },
   "file_extension": ".py",
   "mimetype": "text/x-python",
   "name": "python",
   "nbconvert_exporter": "python",
   "pygments_lexer": "ipython3",
   "version": "3.7.6"
  }
 },
 "nbformat": 4,
 "nbformat_minor": 4
}
