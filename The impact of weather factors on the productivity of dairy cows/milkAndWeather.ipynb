{
 "cells": [
  {
   "cell_type": "markdown",
   "metadata": {},
   "source": [
    "This code does the following:\n",
    "1. Removes all events with no total yield\n",
    "2. removes cows named \"Unknown\"\n",
    "3. Sums all milkings for each cow in a single day and calculates number of milking events\n",
    "4. Adds the specified weather data\n",
    "5. Outputs one or multiple csv files with the combined data\n",
    "\n",
    "Note that the file \"AllMilkings.csv\" is required to run this, as well as the relevant daily weather data"
   ]
  },
  {
   "cell_type": "code",
   "execution_count": 1,
   "metadata": {},
   "outputs": [],
   "source": [
    "#Imports\n",
    "import pandas as pd"
   ]
  },
  {
   "cell_type": "code",
   "execution_count": 2,
   "metadata": {},
   "outputs": [],
   "source": [
    "def combineData(wCols, byFarm = True, total = True):\n",
    "    #Loads the milking data\n",
    "    milk = pd.read_csv(\"AllMilkings.csv\", usecols=[\"FarmName_Pseudo\", \"SE_Number\", \"StartDate\", \"TotalYield\"])\n",
    "    #Removes som bad stuff\n",
    "    milk = milk[milk[\"TotalYield\"].notnull()]\n",
    "    milk = milk[milk[\"SE_Number\"] != \"Unknown\"]\n",
    "    milk = milk.drop_duplicates()\n",
    "    #Sorts by date\n",
    "    milk = milk.sort_values([\"StartDate\"], ignore_index = True)\n",
    "\n",
    "    #Creating series for sum and count for daily milk events\n",
    "    milksum = milk.groupby(['SE_Number','StartDate'])[\"TotalYield\"].sum()\n",
    "    milkcount = milk.groupby(['SE_Number','StartDate'])[\"TotalYield\"].count()\n",
    "    #Remove old total yield\n",
    "    milk = milk.drop(labels=[\"TotalYield\"], axis = 1)\n",
    "    #Drop \"duplicates\"\n",
    "    milk = milk.drop_duplicates()\n",
    "    #Setting multiindex and joining on multiindex\n",
    "    milk = milk.set_index([\"SE_Number\",\"StartDate\"])\n",
    "    milk = milkcount.to_frame().rename({\"TotalYield\": \"DailyCount\"}, axis = 1).join(milk)\n",
    "    milk = milksum.to_frame().rename({\"TotalYield\": \"DailyYield\"}, axis = 1).join(milk)\n",
    "    #Resetting index\n",
    "    milk = milk.reset_index(level=[0])\n",
    "    milk = milk.sort_index()\n",
    "    milk[\"DailyYield\"] = round(milk[\"DailyYield\"], 2)\n",
    "    \n",
    "    \n",
    "    #Finds all unique farms in the milking data\n",
    "    #Loads the weather data for said farms\n",
    "    #Merges it with the milking data on date and farm\n",
    "    uniqueFarms = milk[\"FarmName_Pseudo\"].unique()\n",
    "    df = pd.DataFrame()\n",
    "    for farm in uniqueFarms:\n",
    "        tf = pd.read_csv(f\"{farm}_weather_daily.csv\", usecols=wCols)\n",
    "        tf[\"FarmName_Pseudo\"] = farm\n",
    "        df = pd.concat([df, tf])\n",
    "    \n",
    "    multimilk = pd.merge(milk, df,  how='left', left_on=['StartDate','FarmName_Pseudo'], right_on = ['Timestamp','FarmName_Pseudo'])\n",
    "    \n",
    "    if byFarm:\n",
    "        for farm in uniqueFarms:\n",
    "            ff = multimilk[multimilk[\"FarmName_Pseudo\"] == farm]\n",
    "            ff.to_csv(f\"DailyMilk_{farm}_Weather.csv\", index = False)\n",
    "    \n",
    "    if total:\n",
    "        multimilk.to_csv(\"AllMilkingsDaily_Weather.csv\", index = False)"
   ]
  },
  {
   "cell_type": "code",
   "execution_count": 6,
   "metadata": {},
   "outputs": [],
   "source": [
    "#Choose which weather columns to add to the milking data\n",
    "#\"Timestamp\" is required... might put in a check for it later\n",
    "#Might be a good idea to add a description of the possible values\n",
    "weatherCols = [\"Timestamp\", \"T_C_mean\", \"THI_mean\", \"THI_adj_mean\", \"r_sfc_mean\"]\n",
    "combineData(weatherCols)"
   ]
  },
  {
   "cell_type": "code",
   "execution_count": null,
   "metadata": {},
   "outputs": [],
   "source": []
  }
 ],
 "metadata": {
  "kernelspec": {
   "display_name": "Python 3",
   "language": "python",
   "name": "python3"
  },
  "language_info": {
   "codemirror_mode": {
    "name": "ipython",
    "version": 3
   },
   "file_extension": ".py",
   "mimetype": "text/x-python",
   "name": "python",
   "nbconvert_exporter": "python",
   "pygments_lexer": "ipython3",
   "version": "3.11.0"
  },
  "orig_nbformat": 4,
  "vscode": {
   "interpreter": {
    "hash": "5238573367df39f7286bb46f9ff5f08f63a01a80960060ce41e3c79b190280fa"
   }
  }
 },
 "nbformat": 4,
 "nbformat_minor": 2
}
