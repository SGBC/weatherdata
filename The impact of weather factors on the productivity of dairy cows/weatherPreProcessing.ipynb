{
 "cells": [
  {
   "cell_type": "code",
   "execution_count": 65,
   "metadata": {},
   "outputs": [],
   "source": [
    "#imports\n",
    "import pandas as pd\n",
    "from datetime import date, timedelta\n",
    "import datetime\n",
    "import os\n",
    "import requests"
   ]
  },
  {
   "cell_type": "markdown",
   "metadata": {},
   "source": [
    "This script does the following for each location specified below\n",
    "1. Reads all mesan csv files created by Grib2CSV.ipynb within the date range specified below and puts them in a pandas dataframe\n",
    "2. Acceses the SMHI STRÅNG API once for each radiation parameter and adds the data to the data frame.\n",
    "3. Calculates 2 different temperature humidity index (THI) values for each hour.\n",
    "4. Calculates the daily mean and max for every parameter\n",
    "5. Saves 2 csv files. Hourly and daily.\n",
    "\n",
    "It is assumed that you have alredy run Grib2CSV.ipynb for the points in question.\n",
    "\n",
    "It is also assumed that you run this script from the same location as Grib2CSV.ipynb, meaning a folder named \"MESAN_CSV\" should exist in the same folder.\n",
    "\n",
    "To run this script for all the data created by Grib2CSV.ipynb, you can use the exact same function call as you uesed for Grib2CSV.\n",
    "\n",
    "It is also possible to run it for a subset of the locations and/or a subrange of the time.\n",
    "\n",
    "If you choose to run this script on non existing data you will have a bad time.\n"
   ]
  },
  {
   "cell_type": "code",
   "execution_count": 68,
   "metadata": {},
   "outputs": [],
   "source": [
    "delta = timedelta(days=1)\n",
    "\n",
    "#Parameters related to the STRÅNG api. More info at https://opendata.smhi.se/apidocs/strang/\n",
    "params = [116, 117, 118, 119, 120, 121, 122]\n",
    "parName = [\"CIE UV irradiance\", \"Global irradiance\", \"Direct normal irradiance\", \"PAR\", \"Direct horizontal irradiance\", \"Diffuse irradiance\"]\n",
    "interval = \"hourly\"\n",
    "\n",
    "def weatherPreProcessing(points, start_date, end_date):\n",
    "    \n",
    "    for point in points:\n",
    "        name = point[\"id\"]\n",
    "        lat = point[\"lat\"]\n",
    "        lon = point[\"lon\"]\n",
    "        \n",
    "        \n",
    "        #The following takes every csv file for a specified pseudonym and date range and puts them all in a dataframe\n",
    "        df = pd.DataFrame() #an empty dataframe\n",
    "        current_date = start_date\n",
    "        while current_date <= end_date:\n",
    "            fname = f\"MESAN_{current_date}.csv\"\n",
    "            fpath = os.path.join(\"MESAN_CSV\", name, fname) #OS independent path \n",
    "            df = pd.concat([df, pd.read_csv(fpath)]) #Concatenate csv data to the dataframe\n",
    "            current_date += delta\n",
    "\n",
    "        #The following adds the six STRÅNG parameters to the data frame   \n",
    "        for i in range(6):\n",
    "            param = params[i]\n",
    "            pname = parName[i]\n",
    "            \n",
    "            sDate = start_date.strftime('%Y-%m-%d')\n",
    "            eDate = end_date.strftime('%Y-%m-%d')\n",
    "            \n",
    "            api_url = f\"https://opendata-download-metanalys.smhi.se/api/category/strang1g/version/1/geotype/point/lon/{round(lon,6)}/lat/{round(lat,6)}/parameter/{param}/data.json?from={sDate}&to={eDate}&interval={interval}\"\n",
    "            \n",
    "            #Runs the api call for a single parameter, puts the result in a dataframe and merges it with the main dataframe\n",
    "            tf = pd.DataFrame(requests.get(api_url).json())\n",
    "            tf = tf.rename(columns = {\"value\":pname, \"date_time\": \"Timestamp\"})\n",
    "            df = pd.merge(df, tf, on = \"Timestamp\")\n",
    "        \n",
    "        \n",
    "        #THI calculation\n",
    "        #Assuming that t_sfc is dry bulb\n",
    "        #Assuming that global irradiance is ok to use\n",
    "            \n",
    "        #Creating a new column for Celsius\n",
    "        df[\"T_C\"] = df[\"t_sfc\"] - 273.15\n",
    "\n",
    "        #Creating new column for combined wind speed\n",
    "        df[\"wind_speed\"] = (df[\"v_sfc\"]**2 + df[\"u_sfc\"]**2)**0.5    \n",
    "            \n",
    "        #Calculating THI and adjusted THI\n",
    "        df[\"THI\"] = 1.8 * df[\"T_C\"] + 32 + (0.55 - 0.55 * df[\"r_sfc\"]) * (1.8 * df[\"T_C\"] - 26)    #0.55 instead of 0.0055 since the data is decimal instead of percentage \n",
    "        df[\"THI_adj\"] = 4.51 + (0.8 * df[\"T_C\"]) + (df[\"r_sfc\"] * (df[\"T_C\"] - 14.4)) + 46.4 - 1.992 * df[\"wind_speed\"] + 0.0068 * df[\"Global irradiance\"] #Aparently the relative humidity is decimal in this case... according to Mader 2006\n",
    "        \n",
    "        #Calculating daily mean and max\n",
    "        df[\"Timestamp\"] = pd.to_datetime(df[\"Timestamp\"])\n",
    "        dfDailyMean = df.groupby([df['Timestamp'].dt.date]).mean()\n",
    "        dfDailyMax = df.groupby([df['Timestamp'].dt.date]).max()\n",
    "        dfDaily = dfDailyMean.join(dfDailyMax, lsuffix=\"_mean\", rsuffix= \"_max\")\n",
    "        dfDaily = dfDaily.drop(labels =[\"Timestamp\"], axis = 1)\n",
    "\n",
    "        #Writing the hourly and daily data\n",
    "        df.to_csv(f\"{name}_weather_hourly.csv\", index=False)\n",
    "        dfDaily.to_csv(f\"{name}_weather_daily.csv\")"
   ]
  },
  {
   "cell_type": "code",
   "execution_count": 69,
   "metadata": {},
   "outputs": [
    {
     "ename": "FileNotFoundError",
     "evalue": "[Errno 2] No such file or directory: 'MESAN_CSV\\\\24688\\\\MESAN_2019-11-01.csv'",
     "output_type": "error",
     "traceback": [
      "\u001b[1;31m---------------------------------------------------------------------------\u001b[0m",
      "\u001b[1;31mFileNotFoundError\u001b[0m                         Traceback (most recent call last)",
      "\u001b[1;32mc:\\Users\\rober\\OneDrive\\Skrivbord\\MESANsdadasdad\\weatherPreProcessing.ipynb Cell 4\u001b[0m in \u001b[0;36m<cell line: 4>\u001b[1;34m()\u001b[0m\n\u001b[0;32m      <a href='vscode-notebook-cell:/c%3A/Users/rober/OneDrive/Skrivbord/MESANsdadasdad/weatherPreProcessing.ipynb#W3sZmlsZQ%3D%3D?line=1'>2</a>\u001b[0m start_date \u001b[39m=\u001b[39m datetime\u001b[39m.\u001b[39mdate(\u001b[39m2019\u001b[39m, \u001b[39m11\u001b[39m, \u001b[39m1\u001b[39m)\n\u001b[0;32m      <a href='vscode-notebook-cell:/c%3A/Users/rober/OneDrive/Skrivbord/MESANsdadasdad/weatherPreProcessing.ipynb#W3sZmlsZQ%3D%3D?line=2'>3</a>\u001b[0m end_date \u001b[39m=\u001b[39m datetime\u001b[39m.\u001b[39mdate(\u001b[39m2022\u001b[39m, \u001b[39m10\u001b[39m, \u001b[39m31\u001b[39m)\n\u001b[1;32m----> <a href='vscode-notebook-cell:/c%3A/Users/rober/OneDrive/Skrivbord/MESANsdadasdad/weatherPreProcessing.ipynb#W3sZmlsZQ%3D%3D?line=3'>4</a>\u001b[0m weatherPreProcessing(points, start_date, end_date)\n",
      "\u001b[1;32mc:\\Users\\rober\\OneDrive\\Skrivbord\\MESANsdadasdad\\weatherPreProcessing.ipynb Cell 4\u001b[0m in \u001b[0;36mweatherPreProcessing\u001b[1;34m(points, start_date, end_date)\u001b[0m\n\u001b[0;32m     <a href='vscode-notebook-cell:/c%3A/Users/rober/OneDrive/Skrivbord/MESANsdadasdad/weatherPreProcessing.ipynb#W3sZmlsZQ%3D%3D?line=19'>20</a>\u001b[0m     fname \u001b[39m=\u001b[39m \u001b[39mf\u001b[39m\u001b[39m\"\u001b[39m\u001b[39mMESAN_\u001b[39m\u001b[39m{\u001b[39;00mcurrent_date\u001b[39m}\u001b[39;00m\u001b[39m.csv\u001b[39m\u001b[39m\"\u001b[39m\n\u001b[0;32m     <a href='vscode-notebook-cell:/c%3A/Users/rober/OneDrive/Skrivbord/MESANsdadasdad/weatherPreProcessing.ipynb#W3sZmlsZQ%3D%3D?line=20'>21</a>\u001b[0m     fpath \u001b[39m=\u001b[39m os\u001b[39m.\u001b[39mpath\u001b[39m.\u001b[39mjoin(\u001b[39m\"\u001b[39m\u001b[39mMESAN_CSV\u001b[39m\u001b[39m\"\u001b[39m, name, fname) \u001b[39m#OS independent path \u001b[39;00m\n\u001b[1;32m---> <a href='vscode-notebook-cell:/c%3A/Users/rober/OneDrive/Skrivbord/MESANsdadasdad/weatherPreProcessing.ipynb#W3sZmlsZQ%3D%3D?line=21'>22</a>\u001b[0m     df \u001b[39m=\u001b[39m pd\u001b[39m.\u001b[39mconcat([df, pd\u001b[39m.\u001b[39;49mread_csv(fpath)]) \u001b[39m#Concatenate csv data to the dataframe\u001b[39;00m\n\u001b[0;32m     <a href='vscode-notebook-cell:/c%3A/Users/rober/OneDrive/Skrivbord/MESANsdadasdad/weatherPreProcessing.ipynb#W3sZmlsZQ%3D%3D?line=22'>23</a>\u001b[0m     current_date \u001b[39m+\u001b[39m\u001b[39m=\u001b[39m delta\n\u001b[0;32m     <a href='vscode-notebook-cell:/c%3A/Users/rober/OneDrive/Skrivbord/MESANsdadasdad/weatherPreProcessing.ipynb#W3sZmlsZQ%3D%3D?line=24'>25</a>\u001b[0m \u001b[39m#The following adds the six STRÅNG parameters to the data frame   \u001b[39;00m\n",
      "File \u001b[1;32mc:\\Program Files\\Python310\\lib\\site-packages\\pandas\\util\\_decorators.py:211\u001b[0m, in \u001b[0;36mdeprecate_kwarg.<locals>._deprecate_kwarg.<locals>.wrapper\u001b[1;34m(*args, **kwargs)\u001b[0m\n\u001b[0;32m    209\u001b[0m     \u001b[39melse\u001b[39;00m:\n\u001b[0;32m    210\u001b[0m         kwargs[new_arg_name] \u001b[39m=\u001b[39m new_arg_value\n\u001b[1;32m--> 211\u001b[0m \u001b[39mreturn\u001b[39;00m func(\u001b[39m*\u001b[39margs, \u001b[39m*\u001b[39m\u001b[39m*\u001b[39mkwargs)\n",
      "File \u001b[1;32mc:\\Program Files\\Python310\\lib\\site-packages\\pandas\\util\\_decorators.py:317\u001b[0m, in \u001b[0;36mdeprecate_nonkeyword_arguments.<locals>.decorate.<locals>.wrapper\u001b[1;34m(*args, **kwargs)\u001b[0m\n\u001b[0;32m    311\u001b[0m \u001b[39mif\u001b[39;00m \u001b[39mlen\u001b[39m(args) \u001b[39m>\u001b[39m num_allow_args:\n\u001b[0;32m    312\u001b[0m     warnings\u001b[39m.\u001b[39mwarn(\n\u001b[0;32m    313\u001b[0m         msg\u001b[39m.\u001b[39mformat(arguments\u001b[39m=\u001b[39marguments),\n\u001b[0;32m    314\u001b[0m         \u001b[39mFutureWarning\u001b[39;00m,\n\u001b[0;32m    315\u001b[0m         stacklevel\u001b[39m=\u001b[39mfind_stack_level(inspect\u001b[39m.\u001b[39mcurrentframe()),\n\u001b[0;32m    316\u001b[0m     )\n\u001b[1;32m--> 317\u001b[0m \u001b[39mreturn\u001b[39;00m func(\u001b[39m*\u001b[39margs, \u001b[39m*\u001b[39m\u001b[39m*\u001b[39mkwargs)\n",
      "File \u001b[1;32mc:\\Program Files\\Python310\\lib\\site-packages\\pandas\\io\\parsers\\readers.py:950\u001b[0m, in \u001b[0;36mread_csv\u001b[1;34m(filepath_or_buffer, sep, delimiter, header, names, index_col, usecols, squeeze, prefix, mangle_dupe_cols, dtype, engine, converters, true_values, false_values, skipinitialspace, skiprows, skipfooter, nrows, na_values, keep_default_na, na_filter, verbose, skip_blank_lines, parse_dates, infer_datetime_format, keep_date_col, date_parser, dayfirst, cache_dates, iterator, chunksize, compression, thousands, decimal, lineterminator, quotechar, quoting, doublequote, escapechar, comment, encoding, encoding_errors, dialect, error_bad_lines, warn_bad_lines, on_bad_lines, delim_whitespace, low_memory, memory_map, float_precision, storage_options)\u001b[0m\n\u001b[0;32m    935\u001b[0m kwds_defaults \u001b[39m=\u001b[39m _refine_defaults_read(\n\u001b[0;32m    936\u001b[0m     dialect,\n\u001b[0;32m    937\u001b[0m     delimiter,\n\u001b[1;32m   (...)\u001b[0m\n\u001b[0;32m    946\u001b[0m     defaults\u001b[39m=\u001b[39m{\u001b[39m\"\u001b[39m\u001b[39mdelimiter\u001b[39m\u001b[39m\"\u001b[39m: \u001b[39m\"\u001b[39m\u001b[39m,\u001b[39m\u001b[39m\"\u001b[39m},\n\u001b[0;32m    947\u001b[0m )\n\u001b[0;32m    948\u001b[0m kwds\u001b[39m.\u001b[39mupdate(kwds_defaults)\n\u001b[1;32m--> 950\u001b[0m \u001b[39mreturn\u001b[39;00m _read(filepath_or_buffer, kwds)\n",
      "File \u001b[1;32mc:\\Program Files\\Python310\\lib\\site-packages\\pandas\\io\\parsers\\readers.py:605\u001b[0m, in \u001b[0;36m_read\u001b[1;34m(filepath_or_buffer, kwds)\u001b[0m\n\u001b[0;32m    602\u001b[0m _validate_names(kwds\u001b[39m.\u001b[39mget(\u001b[39m\"\u001b[39m\u001b[39mnames\u001b[39m\u001b[39m\"\u001b[39m, \u001b[39mNone\u001b[39;00m))\n\u001b[0;32m    604\u001b[0m \u001b[39m# Create the parser.\u001b[39;00m\n\u001b[1;32m--> 605\u001b[0m parser \u001b[39m=\u001b[39m TextFileReader(filepath_or_buffer, \u001b[39m*\u001b[39m\u001b[39m*\u001b[39mkwds)\n\u001b[0;32m    607\u001b[0m \u001b[39mif\u001b[39;00m chunksize \u001b[39mor\u001b[39;00m iterator:\n\u001b[0;32m    608\u001b[0m     \u001b[39mreturn\u001b[39;00m parser\n",
      "File \u001b[1;32mc:\\Program Files\\Python310\\lib\\site-packages\\pandas\\io\\parsers\\readers.py:1442\u001b[0m, in \u001b[0;36mTextFileReader.__init__\u001b[1;34m(self, f, engine, **kwds)\u001b[0m\n\u001b[0;32m   1439\u001b[0m     \u001b[39mself\u001b[39m\u001b[39m.\u001b[39moptions[\u001b[39m\"\u001b[39m\u001b[39mhas_index_names\u001b[39m\u001b[39m\"\u001b[39m] \u001b[39m=\u001b[39m kwds[\u001b[39m\"\u001b[39m\u001b[39mhas_index_names\u001b[39m\u001b[39m\"\u001b[39m]\n\u001b[0;32m   1441\u001b[0m \u001b[39mself\u001b[39m\u001b[39m.\u001b[39mhandles: IOHandles \u001b[39m|\u001b[39m \u001b[39mNone\u001b[39;00m \u001b[39m=\u001b[39m \u001b[39mNone\u001b[39;00m\n\u001b[1;32m-> 1442\u001b[0m \u001b[39mself\u001b[39m\u001b[39m.\u001b[39m_engine \u001b[39m=\u001b[39m \u001b[39mself\u001b[39;49m\u001b[39m.\u001b[39;49m_make_engine(f, \u001b[39mself\u001b[39;49m\u001b[39m.\u001b[39;49mengine)\n",
      "File \u001b[1;32mc:\\Program Files\\Python310\\lib\\site-packages\\pandas\\io\\parsers\\readers.py:1729\u001b[0m, in \u001b[0;36mTextFileReader._make_engine\u001b[1;34m(self, f, engine)\u001b[0m\n\u001b[0;32m   1727\u001b[0m     is_text \u001b[39m=\u001b[39m \u001b[39mFalse\u001b[39;00m\n\u001b[0;32m   1728\u001b[0m     mode \u001b[39m=\u001b[39m \u001b[39m\"\u001b[39m\u001b[39mrb\u001b[39m\u001b[39m\"\u001b[39m\n\u001b[1;32m-> 1729\u001b[0m \u001b[39mself\u001b[39m\u001b[39m.\u001b[39mhandles \u001b[39m=\u001b[39m get_handle(\n\u001b[0;32m   1730\u001b[0m     f,\n\u001b[0;32m   1731\u001b[0m     mode,\n\u001b[0;32m   1732\u001b[0m     encoding\u001b[39m=\u001b[39;49m\u001b[39mself\u001b[39;49m\u001b[39m.\u001b[39;49moptions\u001b[39m.\u001b[39;49mget(\u001b[39m\"\u001b[39;49m\u001b[39mencoding\u001b[39;49m\u001b[39m\"\u001b[39;49m, \u001b[39mNone\u001b[39;49;00m),\n\u001b[0;32m   1733\u001b[0m     compression\u001b[39m=\u001b[39;49m\u001b[39mself\u001b[39;49m\u001b[39m.\u001b[39;49moptions\u001b[39m.\u001b[39;49mget(\u001b[39m\"\u001b[39;49m\u001b[39mcompression\u001b[39;49m\u001b[39m\"\u001b[39;49m, \u001b[39mNone\u001b[39;49;00m),\n\u001b[0;32m   1734\u001b[0m     memory_map\u001b[39m=\u001b[39;49m\u001b[39mself\u001b[39;49m\u001b[39m.\u001b[39;49moptions\u001b[39m.\u001b[39;49mget(\u001b[39m\"\u001b[39;49m\u001b[39mmemory_map\u001b[39;49m\u001b[39m\"\u001b[39;49m, \u001b[39mFalse\u001b[39;49;00m),\n\u001b[0;32m   1735\u001b[0m     is_text\u001b[39m=\u001b[39;49mis_text,\n\u001b[0;32m   1736\u001b[0m     errors\u001b[39m=\u001b[39;49m\u001b[39mself\u001b[39;49m\u001b[39m.\u001b[39;49moptions\u001b[39m.\u001b[39;49mget(\u001b[39m\"\u001b[39;49m\u001b[39mencoding_errors\u001b[39;49m\u001b[39m\"\u001b[39;49m, \u001b[39m\"\u001b[39;49m\u001b[39mstrict\u001b[39;49m\u001b[39m\"\u001b[39;49m),\n\u001b[0;32m   1737\u001b[0m     storage_options\u001b[39m=\u001b[39;49m\u001b[39mself\u001b[39;49m\u001b[39m.\u001b[39;49moptions\u001b[39m.\u001b[39;49mget(\u001b[39m\"\u001b[39;49m\u001b[39mstorage_options\u001b[39;49m\u001b[39m\"\u001b[39;49m, \u001b[39mNone\u001b[39;49;00m),\n\u001b[0;32m   1738\u001b[0m )\n\u001b[0;32m   1739\u001b[0m \u001b[39massert\u001b[39;00m \u001b[39mself\u001b[39m\u001b[39m.\u001b[39mhandles \u001b[39mis\u001b[39;00m \u001b[39mnot\u001b[39;00m \u001b[39mNone\u001b[39;00m\n\u001b[0;32m   1740\u001b[0m f \u001b[39m=\u001b[39m \u001b[39mself\u001b[39m\u001b[39m.\u001b[39mhandles\u001b[39m.\u001b[39mhandle\n",
      "File \u001b[1;32mc:\\Program Files\\Python310\\lib\\site-packages\\pandas\\io\\common.py:857\u001b[0m, in \u001b[0;36mget_handle\u001b[1;34m(path_or_buf, mode, encoding, compression, memory_map, is_text, errors, storage_options)\u001b[0m\n\u001b[0;32m    852\u001b[0m \u001b[39melif\u001b[39;00m \u001b[39misinstance\u001b[39m(handle, \u001b[39mstr\u001b[39m):\n\u001b[0;32m    853\u001b[0m     \u001b[39m# Check whether the filename is to be opened in binary mode.\u001b[39;00m\n\u001b[0;32m    854\u001b[0m     \u001b[39m# Binary mode does not support 'encoding' and 'newline'.\u001b[39;00m\n\u001b[0;32m    855\u001b[0m     \u001b[39mif\u001b[39;00m ioargs\u001b[39m.\u001b[39mencoding \u001b[39mand\u001b[39;00m \u001b[39m\"\u001b[39m\u001b[39mb\u001b[39m\u001b[39m\"\u001b[39m \u001b[39mnot\u001b[39;00m \u001b[39min\u001b[39;00m ioargs\u001b[39m.\u001b[39mmode:\n\u001b[0;32m    856\u001b[0m         \u001b[39m# Encoding\u001b[39;00m\n\u001b[1;32m--> 857\u001b[0m         handle \u001b[39m=\u001b[39m \u001b[39mopen\u001b[39;49m(\n\u001b[0;32m    858\u001b[0m             handle,\n\u001b[0;32m    859\u001b[0m             ioargs\u001b[39m.\u001b[39;49mmode,\n\u001b[0;32m    860\u001b[0m             encoding\u001b[39m=\u001b[39;49mioargs\u001b[39m.\u001b[39;49mencoding,\n\u001b[0;32m    861\u001b[0m             errors\u001b[39m=\u001b[39;49merrors,\n\u001b[0;32m    862\u001b[0m             newline\u001b[39m=\u001b[39;49m\u001b[39m\"\u001b[39;49m\u001b[39m\"\u001b[39;49m,\n\u001b[0;32m    863\u001b[0m         )\n\u001b[0;32m    864\u001b[0m     \u001b[39melse\u001b[39;00m:\n\u001b[0;32m    865\u001b[0m         \u001b[39m# Binary mode\u001b[39;00m\n\u001b[0;32m    866\u001b[0m         handle \u001b[39m=\u001b[39m \u001b[39mopen\u001b[39m(handle, ioargs\u001b[39m.\u001b[39mmode)\n",
      "\u001b[1;31mFileNotFoundError\u001b[0m: [Errno 2] No such file or directory: 'MESAN_CSV\\\\24688\\\\MESAN_2019-11-01.csv'"
     ]
    }
   ],
   "source": [
    "points = [{'id': '24688', 'lat': 55.6689, 'lon': 13.1023}]\n",
    "start_date = datetime.date(2019, 11, 1)\n",
    "end_date = datetime.date(2022, 10, 31)\n",
    "weatherPreProcessing(points, start_date, end_date)"
   ]
  },
  {
   "cell_type": "code",
   "execution_count": null,
   "metadata": {},
   "outputs": [],
   "source": []
  }
 ],
 "metadata": {
  "kernelspec": {
   "display_name": "Python 3.8.7 64-bit",
   "language": "python",
   "name": "python3"
  },
  "language_info": {
   "codemirror_mode": {
    "name": "ipython",
    "version": 3
   },
   "file_extension": ".py",
   "mimetype": "text/x-python",
   "name": "python",
   "nbconvert_exporter": "python",
   "pygments_lexer": "ipython3",
   "version": "3.8.7"
  },
  "orig_nbformat": 4,
  "vscode": {
   "interpreter": {
    "hash": "570feb405e2e27c949193ac68f46852414290d515b0ba6e5d90d076ed2284471"
   }
  }
 },
 "nbformat": 4,
 "nbformat_minor": 2
}
